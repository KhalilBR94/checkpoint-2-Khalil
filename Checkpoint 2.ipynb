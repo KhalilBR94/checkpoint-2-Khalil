{
 "cells": [
  {
   "cell_type": "code",
   "execution_count": 1,
   "metadata": {},
   "outputs": [
    {
     "name": "stdout",
     "output_type": "stream",
     "text": [
      "[2996, 2989, 2982, 2968, 2961, 2954, 2947, 2933, 2926, 2919, 2912, 2898, 2891, 2884, 2877, 2863, 2856, 2849, 2842, 2828, 2821, 2814, 2807, 2793, 2786, 2779, 2772, 2758, 2751, 2744, 2737, 2723, 2716, 2709, 2702, 2688, 2681, 2674, 2667, 2653, 2646, 2639, 2632, 2618, 2611, 2604, 2597, 2583, 2576, 2569, 2562, 2548, 2541, 2534, 2527, 2513, 2506, 2499, 2492, 2478, 2471, 2464, 2457, 2443, 2436, 2429, 2422, 2408, 2401, 2394, 2387, 2373, 2366, 2359, 2352, 2338, 2331, 2324, 2317, 2303, 2296, 2289, 2282, 2268, 2261, 2254, 2247, 2233, 2226, 2219, 2212, 2198, 2191, 2184, 2177, 2163, 2156, 2149, 2142, 2128, 2121, 2114, 2107, 2093, 2086, 2079, 2072, 2058, 2051, 2044, 2037, 2023, 2016, 2009, 2002]\n"
     ]
    }
   ],
   "source": [
    "#Question 1\n",
    "My_list=[]\n",
    "for i in range (2000,3000):\n",
    "    if i%7==0 and i%5!=0 :\n",
    "        My_list.insert(0,i)\n",
    "\n",
    "print (My_list)"
   ]
  },
  {
   "cell_type": "code",
   "execution_count": 5,
   "metadata": {},
   "outputs": [
    {
     "data": {
      "text/plain": [
       "120"
      ]
     },
     "execution_count": 5,
     "metadata": {},
     "output_type": "execute_result"
    }
   ],
   "source": [
    "#question 2\n",
    "def fact(n):\n",
    "    if n>1:\n",
    "        F=1\n",
    "        for r in range (2,n+1):\n",
    "            F=F*r\n",
    "        return F\n",
    "    else:\n",
    "        return 1\n",
    "    \n",
    "fact(5)\n",
    "#question 2\n",
    "            \n",
    "      "
   ]
  },
  {
   "cell_type": "code",
   "execution_count": 8,
   "metadata": {},
   "outputs": [
    {
     "name": "stdin",
     "output_type": "stream",
     "text": [
      " 8\n"
     ]
    },
    {
     "name": "stdout",
     "output_type": "stream",
     "text": [
      "{1: 1, 2: 4, 3: 9, 4: 16, 5: 25, 6: 36, 7: 49, 8: 64}\n"
     ]
    }
   ],
   "source": [
    "#question 3\n",
    "n=int(input())\n",
    "dict={i:i*i for i in range (1,n+1)}\n",
    "print(dict)"
   ]
  },
  {
   "cell_type": "code",
   "execution_count": 9,
   "metadata": {},
   "outputs": [
    {
     "name": "stdin",
     "output_type": "stream",
     "text": [
      " kitten\n",
      " 3\n"
     ]
    },
    {
     "name": "stdout",
     "output_type": "stream",
     "text": [
      "kiten\n"
     ]
    }
   ],
   "source": [
    "#question 4\n",
    "ch=input()\n",
    "n=int(input())\n",
    "i=len(ch)\n",
    "if n<=len(ch):\n",
    "    print(ch[0:n]+ch[n+1:i])\n",
    "\n",
    "    \n",
    "    \n"
   ]
  },
  {
   "cell_type": "code",
   "execution_count": 10,
   "metadata": {},
   "outputs": [
    {
     "name": "stdout",
     "output_type": "stream",
     "text": [
      "[[0 1]\n",
      " [2 3]\n",
      " [4 5]]\n"
     ]
    },
    {
     "data": {
      "text/plain": [
       "[[0, 1], [2, 3], [4, 5]]"
      ]
     },
     "execution_count": 10,
     "metadata": {},
     "output_type": "execute_result"
    }
   ],
   "source": [
    "#question 5\n",
    "import numpy as np\n",
    "new_array=np.array([[0,1], [2,3], [4,5]])\n",
    "print(new_array)\n",
    "new_array.tolist()\n",
    "\n"
   ]
  },
  {
   "cell_type": "code",
   "execution_count": 36,
   "metadata": {},
   "outputs": [
    {
     "name": "stdout",
     "output_type": "stream",
     "text": [
      "[[ 1. -1.]\n",
      " [-1.  1.]]\n"
     ]
    }
   ],
   "source": [
    "#question 6\n",
    "import numpy as np\n",
    "new_array1=np.array( [0, 1, 2] )\n",
    "new_array2=np.array( [2, 1, 0])\n",
    "covariance=np.cov(new_array1,new_array2)\n",
    "print(covariance)\n"
   ]
  },
  {
   "cell_type": "code",
   "execution_count": 10,
   "metadata": {},
   "outputs": [
    {
     "name": "stdin",
     "output_type": "stream",
     "text": [
      " 100,150,180\n"
     ]
    },
    {
     "name": "stdout",
     "output_type": "stream",
     "text": [
      "le résultat est [18, 22, 24]\n"
     ]
    }
   ],
   "source": [
    "#question 7\n",
    "import math \n",
    "C=50\n",
    "H=30\n",
    "Liste=[]\n",
    "N=(input())\n",
    "M=N.split(',')\n",
    "L=len(M)\n",
    "M=[int(i) for i in M]\n",
    "i=0\n",
    "while i<L:\n",
    "    Q = round(math.sqrt((2*C*M[i])/H))\n",
    "    i+=1\n",
    "    Liste.append(Q)\n",
    "print('le résultat est',Liste)\n",
    "\n",
    "    \n",
    "\n",
    "\n"
   ]
  },
  {
   "cell_type": "code",
   "execution_count": null,
   "metadata": {},
   "outputs": [],
   "source": []
  }
 ],
 "metadata": {
  "kernelspec": {
   "display_name": "Python 3",
   "language": "python",
   "name": "python3"
  },
  "language_info": {
   "codemirror_mode": {
    "name": "ipython",
    "version": 3
   },
   "file_extension": ".py",
   "mimetype": "text/x-python",
   "name": "python",
   "nbconvert_exporter": "python",
   "pygments_lexer": "ipython3",
   "version": "3.8.3"
  }
 },
 "nbformat": 4,
 "nbformat_minor": 4
}
